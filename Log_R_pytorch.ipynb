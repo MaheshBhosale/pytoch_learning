{
 "cells": [
  {
   "cell_type": "code",
   "execution_count": 1,
   "metadata": {},
   "outputs": [],
   "source": [
    "import torch\n",
    "import torch.nn as nn\n",
    "import torchvision.datasets as dsets\n",
    "import torchvision.transforms as transforms\n",
    "from torch.autograd import Variable"
   ]
  },
  {
   "cell_type": "code",
   "execution_count": 2,
   "metadata": {},
   "outputs": [],
   "source": [
    "#Hyper parameters \n",
    "input_size =784\n",
    "num_classes=10\n",
    "num_epochs=5\n",
    "batch_size=100\n",
    "learnong_rate=0.001"
   ]
  },
  {
   "cell_type": "code",
   "execution_count": 3,
   "metadata": {},
   "outputs": [
    {
     "name": "stdout",
     "output_type": "stream",
     "text": [
      "Downloading http://yann.lecun.com/exdb/mnist/train-images-idx3-ubyte.gz\n",
      "Downloading http://yann.lecun.com/exdb/mnist/train-labels-idx1-ubyte.gz\n",
      "Downloading http://yann.lecun.com/exdb/mnist/t10k-images-idx3-ubyte.gz\n",
      "Downloading http://yann.lecun.com/exdb/mnist/t10k-labels-idx1-ubyte.gz\n",
      "Processing...\n",
      "Done!\n"
     ]
    }
   ],
   "source": [
    "train_dataset = dsets.MNIST(root='./data', train=True, transform=transforms.ToTensor(), download=True) \n",
    "test_dataset = dsets.MNIST(root='./data', transform=transforms.ToTensor(), train=False, download=True)"
   ]
  },
  {
   "cell_type": "code",
   "execution_count": 4,
   "metadata": {},
   "outputs": [],
   "source": [
    "train_loader = torch.utils.data.DataLoader(dataset=train_dataset, batch_size=batch_size, shuffle=True)\n",
    "test_loader = torch.utils.data.DataLoader(dataset=test_dataset, batch_size=batch_size, shuffle=False)"
   ]
  },
  {
   "cell_type": "code",
   "execution_count": 5,
   "metadata": {},
   "outputs": [],
   "source": [
    "class LogisticRegression(nn.Module):\n",
    "    def __init__(self, input_size, num_classes):\n",
    "        super(LogisticRegression, self).__init__()\n",
    "        self.linear = nn.Linear(input_size, num_classes)\n",
    "    def forward(self, x):\n",
    "        out = self.linear(x)\n",
    "        return out"
   ]
  },
  {
   "cell_type": "code",
   "execution_count": 6,
   "metadata": {},
   "outputs": [],
   "source": [
    "model = LogisticRegression(input_size, num_classes)"
   ]
  },
  {
   "cell_type": "code",
   "execution_count": 7,
   "metadata": {},
   "outputs": [],
   "source": [
    "criterion = nn.CrossEntropyLoss()\n",
    "optimizer = torch.optim.SGD(model.parameters(), lr=learnong_rate)"
   ]
  },
  {
   "cell_type": "code",
   "execution_count": 8,
   "metadata": {},
   "outputs": [
    {
     "name": "stdout",
     "output_type": "stream",
     "text": [
      "Epoch: [1/5], Step: [100/600], Loss: 2.2551\n",
      "Epoch: [1/5], Step: [200/600], Loss: 2.1271\n",
      "Epoch: [1/5], Step: [300/600], Loss: 2.0362\n",
      "Epoch: [1/5], Step: [400/600], Loss: 1.9705\n",
      "Epoch: [1/5], Step: [500/600], Loss: 1.8757\n",
      "Epoch: [1/5], Step: [600/600], Loss: 1.8112\n",
      "Epoch: [2/5], Step: [100/600], Loss: 1.7142\n",
      "Epoch: [2/5], Step: [200/600], Loss: 1.6590\n",
      "Epoch: [2/5], Step: [300/600], Loss: 1.6245\n",
      "Epoch: [2/5], Step: [400/600], Loss: 1.5506\n",
      "Epoch: [2/5], Step: [500/600], Loss: 1.4740\n",
      "Epoch: [2/5], Step: [600/600], Loss: 1.5087\n",
      "Epoch: [3/5], Step: [100/600], Loss: 1.4481\n",
      "Epoch: [3/5], Step: [200/600], Loss: 1.4027\n",
      "Epoch: [3/5], Step: [300/600], Loss: 1.4189\n",
      "Epoch: [3/5], Step: [400/600], Loss: 1.3836\n",
      "Epoch: [3/5], Step: [500/600], Loss: 1.2853\n",
      "Epoch: [3/5], Step: [600/600], Loss: 1.2091\n",
      "Epoch: [4/5], Step: [100/600], Loss: 1.2421\n",
      "Epoch: [4/5], Step: [200/600], Loss: 1.2458\n",
      "Epoch: [4/5], Step: [300/600], Loss: 1.2063\n",
      "Epoch: [4/5], Step: [400/600], Loss: 1.2059\n",
      "Epoch: [4/5], Step: [500/600], Loss: 1.1771\n",
      "Epoch: [4/5], Step: [600/600], Loss: 1.1980\n",
      "Epoch: [5/5], Step: [100/600], Loss: 1.1984\n",
      "Epoch: [5/5], Step: [200/600], Loss: 1.0387\n",
      "Epoch: [5/5], Step: [300/600], Loss: 1.0278\n",
      "Epoch: [5/5], Step: [400/600], Loss: 1.1003\n",
      "Epoch: [5/5], Step: [500/600], Loss: 0.9796\n",
      "Epoch: [5/5], Step: [600/600], Loss: 0.9376\n"
     ]
    }
   ],
   "source": [
    "for epoch in range(num_epochs):\n",
    "    for i, (images, labels) in enumerate(train_loader):\n",
    "        images = Variable(images.view(-1, 28*28))\n",
    "        labels = Variable(labels)\n",
    "        ouputs = model(images)\n",
    "        optimizer.zero_grad()\n",
    "        loss = criterion(ouputs, labels)\n",
    "        loss.backward()\n",
    "        optimizer.step()\n",
    "        if (i+1)%100 == 0:\n",
    "            print ('Epoch: [%d/%d], Step: [%d/%d], Loss: %.4f' \n",
    "                   % (epoch+1, num_epochs, i+1, len(train_dataset)//batch_size, loss.data[0]))"
   ]
  },
  {
   "cell_type": "code",
   "execution_count": 9,
   "metadata": {},
   "outputs": [],
   "source": [
    "correct=0\n",
    "total=0"
   ]
  },
  {
   "cell_type": "code",
   "execution_count": 58,
   "metadata": {},
   "outputs": [],
   "source": [
    "for images,labels in test_loader:\n",
    "    images = Variable(images.view(-1, 28*28))\n",
    "    outputs = model(images)\n",
    "    _,predicted = torch.max(outputs.data, 1)\n",
    "    total += labels.size(0)\n",
    "    correct += (predicted == labels).sum()"
   ]
  },
  {
   "cell_type": "code",
   "execution_count": 59,
   "metadata": {},
   "outputs": [
    {
     "name": "stdout",
     "output_type": "stream",
     "text": [
      "Accuracy of the model on the 10000 test images: 81 %\n"
     ]
    }
   ],
   "source": [
    "print('Accuracy of the model on the 10000 test images: %d %%' % (100 * correct / total))"
   ]
  },
  {
   "cell_type": "code",
   "execution_count": null,
   "metadata": {},
   "outputs": [],
   "source": []
  }
 ],
 "metadata": {
  "kernelspec": {
   "display_name": "Python 3",
   "language": "python",
   "name": "python3"
  },
  "language_info": {
   "codemirror_mode": {
    "name": "ipython",
    "version": 3
   },
   "file_extension": ".py",
   "mimetype": "text/x-python",
   "name": "python",
   "nbconvert_exporter": "python",
   "pygments_lexer": "ipython3",
   "version": "3.6.5"
  }
 },
 "nbformat": 4,
 "nbformat_minor": 2
}
