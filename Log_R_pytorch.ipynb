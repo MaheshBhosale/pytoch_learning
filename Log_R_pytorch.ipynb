{
 "cells": [
  {
   "cell_type": "code",
   "execution_count": 89,
   "metadata": {},
   "outputs": [],
   "source": [
    "import torch\n",
    "import torch.nn as nn\n",
    "import torchvision.datasets as dsets\n",
    "import torchvision.transforms as transforms\n",
    "from torch.autograd import Variable"
   ]
  },
  {
   "cell_type": "code",
   "execution_count": 90,
   "metadata": {},
   "outputs": [],
   "source": [
    "#Hyper parameters \n",
    "input_size =784\n",
    "num_classes=10\n",
    "num_epochs=5\n",
    "batch_size=100\n",
    "learnong_rate=0.001"
   ]
  },
  {
   "cell_type": "code",
   "execution_count": 91,
   "metadata": {},
   "outputs": [],
   "source": [
    "train_dataset = dsets.MNIST(root='./data', train=True, transform=transforms.ToTensor(), download=True) \n",
    "test_dataset = dsets.MNIST(root='./data', transform=transforms.ToTensor(), train=False, download=True)"
   ]
  },
  {
   "cell_type": "code",
   "execution_count": 92,
   "metadata": {},
   "outputs": [],
   "source": [
    "train_loader = torch.utils.data.DataLoader(dataset=train_dataset, batch_size=batch_size, shuffle=True)\n",
    "test_loader = torch.utils.data.DataLoader(dataset=test_dataset, batch_size=batch_size, shuffle=False)"
   ]
  },
  {
   "cell_type": "code",
   "execution_count": 93,
   "metadata": {},
   "outputs": [],
   "source": [
    "class LogisticRegression(nn.Module):\n",
    "    def __init__(self, input_size, num_classes):\n",
    "        super(LogisticRegression, self).__init__()\n",
    "        self.linear = nn.Linear(input_size, num_classes)\n",
    "    def forward(self, x):\n",
    "        out = self.linear(x)\n",
    "        return out"
   ]
  },
  {
   "cell_type": "code",
   "execution_count": 94,
   "metadata": {},
   "outputs": [],
   "source": [
    "model = LogisticRegression(input_size, num_classes)"
   ]
  },
  {
   "cell_type": "code",
   "execution_count": 95,
   "metadata": {},
   "outputs": [],
   "source": [
    "criterion = nn.CrossEntropyLoss()\n",
    "optimizer = torch.optim.SGD(model.parameters(), lr=learnong_rate)"
   ]
  },
  {
   "cell_type": "code",
   "execution_count": 53,
   "metadata": {},
   "outputs": [
    {
     "name": "stderr",
     "output_type": "stream",
     "text": [
      "C:\\Users\\Mahesh.Bhosale\\AppData\\Local\\Continuum\\anaconda3\\envs\\pytorch0.4.0_env\\lib\\site-packages\\ipykernel_launcher.py:12: UserWarning: invalid index of a 0-dim tensor. This will be an error in PyTorch 0.5. Use tensor.item() to convert a 0-dim tensor to a Python number\n",
      "  if sys.path[0] == '':\n"
     ]
    },
    {
     "name": "stdout",
     "output_type": "stream",
     "text": [
      "Epoch: [1/5], Step: [100/600], Loss: 2.1782\n",
      "Epoch: [1/5], Step: [200/600], Loss: 2.0629\n",
      "Epoch: [1/5], Step: [300/600], Loss: 1.9996\n",
      "Epoch: [1/5], Step: [400/600], Loss: 1.9193\n",
      "Epoch: [1/5], Step: [500/600], Loss: 1.8603\n",
      "Epoch: [1/5], Step: [600/600], Loss: 1.8068\n",
      "Epoch: [2/5], Step: [100/600], Loss: 1.7482\n",
      "Epoch: [2/5], Step: [200/600], Loss: 1.7123\n",
      "Epoch: [2/5], Step: [300/600], Loss: 1.6582\n",
      "Epoch: [2/5], Step: [400/600], Loss: 1.5959\n",
      "Epoch: [2/5], Step: [500/600], Loss: 1.5354\n",
      "Epoch: [2/5], Step: [600/600], Loss: 1.4057\n",
      "Epoch: [3/5], Step: [100/600], Loss: 1.4216\n",
      "Epoch: [3/5], Step: [200/600], Loss: 1.4273\n",
      "Epoch: [3/5], Step: [300/600], Loss: 1.2690\n",
      "Epoch: [3/5], Step: [400/600], Loss: 1.3259\n",
      "Epoch: [3/5], Step: [500/600], Loss: 1.3268\n",
      "Epoch: [3/5], Step: [600/600], Loss: 1.2554\n",
      "Epoch: [4/5], Step: [100/600], Loss: 1.1436\n",
      "Epoch: [4/5], Step: [200/600], Loss: 1.2340\n",
      "Epoch: [4/5], Step: [300/600], Loss: 1.2483\n",
      "Epoch: [4/5], Step: [400/600], Loss: 1.1199\n",
      "Epoch: [4/5], Step: [500/600], Loss: 1.1959\n",
      "Epoch: [4/5], Step: [600/600], Loss: 1.1598\n",
      "Epoch: [5/5], Step: [100/600], Loss: 1.1301\n",
      "Epoch: [5/5], Step: [200/600], Loss: 1.1506\n",
      "Epoch: [5/5], Step: [300/600], Loss: 1.0394\n",
      "Epoch: [5/5], Step: [400/600], Loss: 1.0247\n",
      "Epoch: [5/5], Step: [500/600], Loss: 1.0971\n",
      "Epoch: [5/5], Step: [600/600], Loss: 0.9919\n"
     ]
    }
   ],
   "source": [
    "for epoch in range(num_epochs):\n",
    "    for i, (images, labels) in enumerate(train_loader):\n",
    "        images = Variable(images.view(-1, 28*28))\n",
    "        labels = Variable(labels)\n",
    "        ouputs = model(images)\n",
    "        optimizer.zero_grad()\n",
    "        loss = criterion(ouputs, labels)\n",
    "        loss.backward()\n",
    "        optimizer.step()\n",
    "        if (i+1)%100 == 0:\n",
    "            print ('Epoch: [%d/%d], Step: [%d/%d], Loss: %.4f' \n",
    "                   % (epoch+1, num_epochs, i+1, len(train_dataset)//batch_size, loss.data[0]))"
   ]
  },
  {
   "cell_type": "code",
   "execution_count": 54,
   "metadata": {},
   "outputs": [],
   "source": [
    "correct=0\n",
    "total=0"
   ]
  },
  {
   "cell_type": "code",
   "execution_count": 58,
   "metadata": {},
   "outputs": [],
   "source": [
    "for images,labels in test_loader:\n",
    "    images = Variable(images.view(-1, 28*28))\n",
    "    outputs = model(images)\n",
    "    _,predicted = torch.max(outputs.data, 1)\n",
    "    total += labels.size(0)\n",
    "    correct += (predicted == labels).sum()"
   ]
  },
  {
   "cell_type": "code",
   "execution_count": 59,
   "metadata": {},
   "outputs": [
    {
     "name": "stdout",
     "output_type": "stream",
     "text": [
      "Accuracy of the model on the 10000 test images: 81 %\n"
     ]
    }
   ],
   "source": [
    "print('Accuracy of the model on the 10000 test images: %d %%' % (100 * correct / total))"
   ]
  },
  {
   "cell_type": "code",
   "execution_count": null,
   "metadata": {},
   "outputs": [],
   "source": []
  }
 ],
 "metadata": {
  "kernelspec": {
   "display_name": "Python 3",
   "language": "python",
   "name": "python3"
  },
  "language_info": {
   "codemirror_mode": {
    "name": "ipython",
    "version": 3
   },
   "file_extension": ".py",
   "mimetype": "text/x-python",
   "name": "python",
   "nbconvert_exporter": "python",
   "pygments_lexer": "ipython3",
   "version": "3.5.5"
  }
 },
 "nbformat": 4,
 "nbformat_minor": 2
}
