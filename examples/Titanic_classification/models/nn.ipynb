{
 "cells": [
  {
   "cell_type": "code",
   "execution_count": 91,
   "metadata": {},
   "outputs": [
    {
     "data": {
      "text/plain": [
       "'0.3.1b0+4cf3225'"
      ]
     },
     "execution_count": 91,
     "metadata": {},
     "output_type": "execute_result"
    }
   ],
   "source": [
    "import torch\n",
    "import inspect\n",
    "import torch.nn as nn\n",
    "from torch.autograd import Variable\n",
    "import numpy as np\n",
    "import pandas as pd\n",
    "from torch.utils.data import DataLoader, Dataset\n",
    "import matplotlib.pyplot as plt\n",
    "torch.__version__"
   ]
  },
  {
   "cell_type": "code",
   "execution_count": 92,
   "metadata": {},
   "outputs": [
    {
     "data": {
      "text/plain": [
       "<torch._C.Generator at 0x1d9575635d0>"
      ]
     },
     "execution_count": 92,
     "metadata": {},
     "output_type": "execute_result"
    }
   ],
   "source": [
    "input_size = 8\n",
    "num_classes = 1\n",
    "num_epochs=100\n",
    "batch_size=100\n",
    "learning_rate=0.1\n",
    "torch.manual_seed(120)"
   ]
  },
  {
   "cell_type": "code",
   "execution_count": 93,
   "metadata": {},
   "outputs": [],
   "source": [
    "class LogisticRegresion(nn.Module):\n",
    "    def __init__(self, input_size, num_classes):\n",
    "        super(LogisticRegresion, self).__init__()\n",
    "        self.l1 = nn.Linear(input_size, 6)\n",
    "        self.l2 = nn.Linear(6, 4)\n",
    "        self.l3 = nn.Linear(4, num_classes)\n",
    "        self.sigmoid = nn.Sigmoid()\n",
    "\n",
    "    def forward(self, x):\n",
    "        out1 = self.sigmoid(self.l1(x))\n",
    "        out2 = self.sigmoid(self.l2(out1))\n",
    "        out3 = self.sigmoid(self.l3(out2))\n",
    "        return out3"
   ]
  },
  {
   "cell_type": "code",
   "execution_count": 94,
   "metadata": {},
   "outputs": [],
   "source": [
    "class Titanic_Train_Dataloader(Dataset):\n",
    "    def __init__(self):\n",
    "        self.x_data = pd.read_csv('../Data/new_data.csv', delimiter=',', dtype = np.float32, header = 0)\n",
    "        self.y_data = pd.read_csv('../Data/new_targets.csv', delimiter=',', dtype = np.float32, header = 0)\n",
    "        self.x_data = torch.from_numpy(self.x_data.as_matrix())\n",
    "        self.y_data = torch.from_numpy(self.y_data.as_matrix())\n",
    "        self.len = self.x_data.shape[0]\n",
    "        print(self.x_data)\n",
    "    \n",
    "    def __getitem__(self, index):\n",
    "        return self.x_data[index],self.y_data[index]\n",
    "    \n",
    "    def __len__(self):\n",
    "        return self.len"
   ]
  },
  {
   "cell_type": "code",
   "execution_count": 95,
   "metadata": {},
   "outputs": [],
   "source": [
    "class Titanic_Test_Dataloader(Dataset):\n",
    "    def __init__(self):\n",
    "        self.x_data = pd.read_csv('../Data/new_test_data.csv', delimiter=',', dtype = np.float32, header = 0)\n",
    "        self.y_data = pd.read_csv('../Data/gender_submission.csv', delimiter=',', dtype = np.float32, header = 0)\n",
    "        self.x_data = torch.from_numpy(self.x_data.as_matrix())\n",
    "        self.y_data = torch.from_numpy(self.y_data.as_matrix())\n",
    "        self.len = self.x_data.shape[0]\n",
    "    \n",
    "    def __getitem__(self, index):\n",
    "        return self.x_data[index],self.y_data[index]\n",
    "    \n",
    "    def __len__(self):\n",
    "        return self.len"
   ]
  },
  {
   "cell_type": "code",
   "execution_count": 96,
   "metadata": {},
   "outputs": [],
   "source": [
    "model = LogisticRegresion(input_size, num_classes=num_classes)"
   ]
  },
  {
   "cell_type": "code",
   "execution_count": 97,
   "metadata": {},
   "outputs": [
    {
     "name": "stdout",
     "output_type": "stream",
     "text": [
      "\n",
      "    3     0     1  ...      1     0     3\n",
      "    1     1     2  ...      3     0     2\n",
      "    3     1     1  ...      2     1     3\n",
      "       ...          ⋱          ...       \n",
      "    3     1     1  ...      2     0     3\n",
      "    1     0     1  ...      1     1     1\n",
      "    3     0     1  ...      1     1     3\n",
      "[torch.FloatTensor of size 891x8]\n",
      "\n"
     ]
    }
   ],
   "source": [
    "titanic_train_data = Titanic_Train_Dataloader()\n",
    "train_loader = DataLoader(dataset = titanic_train_data, batch_size=32, shuffle = True)\n",
    "titanic_test_data = Titanic_Test_Dataloader()\n",
    "test_loader = DataLoader(dataset = titanic_test_data, batch_size=32, shuffle = True)"
   ]
  },
  {
   "cell_type": "code",
   "execution_count": 98,
   "metadata": {},
   "outputs": [
    {
     "name": "stdout",
     "output_type": "stream",
     "text": [
      "891 416\n"
     ]
    }
   ],
   "source": [
    "crieterion = nn.BCELoss(size_average=True)\n",
    "optimizer = torch.optim.SGD(model.parameters(), lr=learning_rate)\n",
    "total_train_loss = 0\n",
    "total_test_loss = 0\n",
    "num_train_examples = 891\n",
    "num_test_examples = test_loader.__len__()*32\n",
    "training_losses = []\n",
    "testing_losses = []\n",
    "iterations = []\n",
    "print(num_train_examples, num_test_examples)"
   ]
  },
  {
   "cell_type": "code",
   "execution_count": 99,
   "metadata": {
    "scrolled": false
   },
   "outputs": [
    {
     "name": "stdout",
     "output_type": "stream",
     "text": [
      "[0/100]Train_loss:0.021241382650788516Test_loss:0.020656369626522064\n",
      "[1/100]Train_loss:0.020927892790900335Test_loss:0.020546603088195507\n",
      "[2/100]Train_loss:0.02091122710477356Test_loss:0.020520545112398956\n",
      "[3/100]Train_loss:0.020892888274123236Test_loss:0.02049473486840725\n",
      "[4/100]Train_loss:0.02087780682727544Test_loss:0.02048746381814663\n",
      "[5/100]Train_loss:0.020862174957288235Test_loss:0.020468671877796833\n",
      "[6/100]Train_loss:0.020866343001056335Test_loss:0.020497997363026325\n",
      "[7/100]Train_loss:0.02083930082192726Test_loss:0.0204734095873741\n",
      "[8/100]Train_loss:0.0208360189540619Test_loss:0.02045082372541611\n",
      "[9/100]Train_loss:0.02082166045603126Test_loss:0.0204512753452246\n",
      "[10/100]Train_loss:0.020786316440295424Test_loss:0.020452564152387474\n",
      "[11/100]Train_loss:0.020756485887649483Test_loss:0.020389560753336318\n",
      "[12/100]Train_loss:0.02075318916879519Test_loss:0.02039221115410328\n",
      "[13/100]Train_loss:0.020739818261528657Test_loss:0.020354970573232725\n",
      "[14/100]Train_loss:0.020720705707734148Test_loss:0.020321973098012116\n",
      "[15/100]Train_loss:0.02068819695985411Test_loss:0.020307019926034488\n",
      "[16/100]Train_loss:0.02063642969035139Test_loss:0.02027073258963915\n",
      "[17/100]Train_loss:0.020599426176946708Test_loss:0.020225700420828965\n",
      "[18/100]Train_loss:0.02057544417119053Test_loss:0.020189097294440635\n",
      "[19/100]Train_loss:0.020531762529302527Test_loss:0.02015123014839796\n",
      "[20/100]Train_loss:0.020448982983192077Test_loss:0.020064475014805794\n",
      "[21/100]Train_loss:0.020367632209251224Test_loss:0.019990240295345966\n",
      "[22/100]Train_loss:0.020298764092887424Test_loss:0.01991280010686471\n",
      "[23/100]Train_loss:0.02019217520049124Test_loss:0.019833622213739615\n",
      "[24/100]Train_loss:0.02010549867460891Test_loss:0.01970449648797512\n",
      "[25/100]Train_loss:0.02000453529668309Test_loss:0.019566281197162774\n",
      "[26/100]Train_loss:0.019848761400657337Test_loss:0.01946150941344408\n",
      "[27/100]Train_loss:0.019701654127016077Test_loss:0.019308435085874338\n",
      "[28/100]Train_loss:0.01955887906077735Test_loss:0.01910065759259921\n",
      "[29/100]Train_loss:0.01939056243425534Test_loss:0.018944693442720633\n",
      "[30/100]Train_loss:0.019183007889457558Test_loss:0.018715562155613534\n",
      "[31/100]Train_loss:0.018971558505570984Test_loss:0.018490341133796252\n",
      "[32/100]Train_loss:0.018763199532205944Test_loss:0.018257164754546605\n",
      "[33/100]Train_loss:0.01853965923574771Test_loss:0.01802372531248973\n",
      "[34/100]Train_loss:0.018316651032829926Test_loss:0.01775379041926219\n",
      "[35/100]Train_loss:0.018082169203378268Test_loss:0.01749796549288126\n",
      "[36/100]Train_loss:0.017873129425894398Test_loss:0.01723521711448064\n",
      "[37/100]Train_loss:0.017653603779881625Test_loss:0.01697589815236055\n",
      "[38/100]Train_loss:0.017477513028582605Test_loss:0.016709357858277284\n",
      "[39/100]Train_loss:0.01723700367106599Test_loss:0.016446836865865268\n",
      "[40/100]Train_loss:0.017078603023096633Test_loss:0.01617611736918871\n",
      "[41/100]Train_loss:0.016862449187087156Test_loss:0.015917184332815502\n",
      "[42/100]Train_loss:0.01670195715863563Test_loss:0.015691105491266802\n",
      "[43/100]Train_loss:0.016540843529331967Test_loss:0.01537845290910739\n",
      "[44/100]Train_loss:0.01638975813065046Test_loss:0.01512522386530271\n",
      "[45/100]Train_loss:0.016262085416367828Test_loss:0.014849506891690768\n",
      "[46/100]Train_loss:0.016146722666743628Test_loss:0.014587578220436206\n",
      "[47/100]Train_loss:0.01601308647764786Test_loss:0.014334926166786598\n",
      "[48/100]Train_loss:0.015878157784240416Test_loss:0.014101733596852193\n",
      "[49/100]Train_loss:0.015792471357735184Test_loss:0.013865160254331736\n",
      "[50/100]Train_loss:0.015696032581104573Test_loss:0.01362371638130683\n",
      "[51/100]Train_loss:0.015578149478175958Test_loss:0.013429755631547708\n",
      "[52/100]Train_loss:0.015533742278513282Test_loss:0.0132121667982294\n",
      "[53/100]Train_loss:0.01542056841079635Test_loss:0.012996674443666752\n",
      "[54/100]Train_loss:0.015295733640223373Test_loss:0.012856415616205106\n",
      "[55/100]Train_loss:0.015252498230415027Test_loss:0.012662883704671493\n",
      "[56/100]Train_loss:0.015179700488862231Test_loss:0.012506217051010866\n",
      "[57/100]Train_loss:0.015090867258215325Test_loss:0.012370077320016347\n",
      "[58/100]Train_loss:0.01504616364084109Test_loss:0.012274146939699467\n",
      "[59/100]Train_loss:0.014964809890012816Test_loss:0.012180653543999562\n",
      "[60/100]Train_loss:0.01491244734337033Test_loss:0.012095854187814089\n",
      "[61/100]Train_loss:0.014805360842500337Test_loss:0.01212924482444158\n",
      "[62/100]Train_loss:0.0148138832029135Test_loss:0.01191825197579769\n",
      "[63/100]Train_loss:0.014774013214507355Test_loss:0.011864828089108834\n",
      "[64/100]Train_loss:0.014663830115203771Test_loss:0.011893482878804207\n",
      "[65/100]Train_loss:0.01466090216245983Test_loss:0.011753582395613194\n",
      "[66/100]Train_loss:0.014574007755176789Test_loss:0.011781438038899349\n",
      "[67/100]Train_loss:0.014542247443621942Test_loss:0.01168375533933823\n",
      "[68/100]Train_loss:0.014465116558117766Test_loss:0.01156801300553175\n",
      "[69/100]Train_loss:0.014490944267523408Test_loss:0.011520831057658562\n",
      "[70/100]Train_loss:0.014344501709429637Test_loss:0.011497806757688522\n",
      "[71/100]Train_loss:0.014372623010248983Test_loss:0.011374958432637729\n",
      "[72/100]Train_loss:0.014260047279490632Test_loss:0.011447868309915066\n",
      "[73/100]Train_loss:0.01427241507604066Test_loss:0.011199333848288426\n",
      "[74/100]Train_loss:0.014231906461662181Test_loss:0.011187773269529525\n",
      "[75/100]Train_loss:0.014231412331798395Test_loss:0.011154395922158774\n",
      "[76/100]Train_loss:0.014150995731888931Test_loss:0.011077382745077977\n",
      "[77/100]Train_loss:0.014145114991132392Test_loss:0.01105284017439072\n",
      "[78/100]Train_loss:0.014142301380968789Test_loss:0.011013196351436468\n",
      "[79/100]Train_loss:0.01403023213917425Test_loss:0.010825482125465687\n",
      "[80/100]Train_loss:0.014049163939040384Test_loss:0.010897831346553106\n",
      "[81/100]Train_loss:0.014075488153130117Test_loss:0.01080222513813239\n",
      "[82/100]Train_loss:0.014029344959826315Test_loss:0.010773781149719771\n",
      "[83/100]Train_loss:0.014023937092619445Test_loss:0.010751155563271962\n",
      "[84/100]Train_loss:0.013948526312874089Test_loss:0.010662876069545746\n",
      "[85/100]Train_loss:0.013922915046597704Test_loss:0.01065325027761551\n",
      "[86/100]Train_loss:0.013907348400548384Test_loss:0.010579937961525641\n",
      "[87/100]Train_loss:0.013868857396705918Test_loss:0.010552961522570023\n",
      "[88/100]Train_loss:0.013875248355897589Test_loss:0.010478707281156229\n",
      "[89/100]Train_loss:0.013875502361325436Test_loss:0.010450391743618708\n",
      "[90/100]Train_loss:0.01382518423392984Test_loss:0.010384869081183122\n",
      "[91/100]Train_loss:0.013827781584929135Test_loss:0.010429569520056248\n",
      "[92/100]Train_loss:0.013791993829002551Test_loss:0.010299799892191704\n",
      "[93/100]Train_loss:0.013803294896410504Test_loss:0.010283127212180542\n",
      "[94/100]Train_loss:0.013763768270227109Test_loss:0.010262600504435025\n",
      "[95/100]Train_loss:0.013719672640298487Test_loss:0.010166136691203484\n",
      "[96/100]Train_loss:0.013735683310848026Test_loss:0.010135751790725268\n",
      "[97/100]Train_loss:0.013697403465323443Test_loss:0.010180213990119787\n",
      "[98/100]Train_loss:0.013681799909214915Test_loss:0.010137947634435616\n",
      "[99/100]Train_loss:0.013602492751764797Test_loss:0.010287287251020853\n"
     ]
    }
   ],
   "source": [
    "for epoch in range(num_epochs):\n",
    "        total_train_loss = 0.0\n",
    "        total_test_loss = 0.0\n",
    "        for _index, train_data in enumerate(train_loader):\n",
    "            x_train, y_train = train_data\n",
    "            x_train = Variable(x_train)\n",
    "            y_train = Variable(y_train)\n",
    "            optimizer.zero_grad()\n",
    "            outputs = model(x_train)\n",
    "            train_loss = crieterion(outputs, y_train)\n",
    "            total_train_loss += train_loss.data[0]\n",
    "            train_loss.backward()\n",
    "            optimizer.step()\n",
    "        for index, test_data in enumerate(test_loader):\n",
    "            x_test, y_test = test_data\n",
    "            x_test = Variable(x_test)\n",
    "            y_test = Variable(y_test)\n",
    "            y_pred = model(x_test)\n",
    "            test_loss = crieterion(y_pred, y_test)\n",
    "            total_test_loss += test_loss.data[0]    \n",
    "        total_train_loss /= num_train_examples\n",
    "        total_test_loss /= num_test_examples\n",
    "        training_losses.append(total_train_loss)\n",
    "        testing_losses.append(total_test_loss)\n",
    "        iterations.append(epoch)\n",
    "        print(f'[{epoch}/{num_epochs}]Train_loss:{total_train_loss}Test_loss:{total_test_loss}')\n",
    "#         print(f'Train_loss[{epoch}/{num_epochs}] {total_train_loss} Test_loss [{epoch}/{num_epochs}] {total_test_loss}')\n",
    "        total_train_loss = 0\n",
    "        total_test_loss = 0"
   ]
  },
  {
   "cell_type": "code",
   "execution_count": 100,
   "metadata": {},
   "outputs": [
    {
     "data": {
      "image/png": "[encoded data removed]",
      "text/plain": [
       "<Figure size 432x288 with 1 Axes>"
      ]
     },
     "metadata": {},
     "output_type": "display_data"
    }
   ],
   "source": [
    "# print(iterations)\n",
    "axes = plt.gca()\n",
    "axes.set_xlim([0, 200])\n",
    "axes.set_ylim([0.001, 0.05])\n",
    "plt.plot(iterations, training_losses)\n",
    "plt.plot(iterations, testing_losses)\n",
    "plt.show()"
   ]
  },
  {
   "cell_type": "code",
   "execution_count": 102,
   "metadata": {},
   "outputs": [
    {
     "name": "stdout",
     "output_type": "stream",
     "text": [
      "Accuracy is 87.5%\n"
     ]
    }
   ],
   "source": [
    "index\n",
    "correct = 0\n",
    "for index, data in enumerate(test_loader):\n",
    "    x_data, y_data = data\n",
    "    x_data = Variable(x_data)\n",
    "    y_data = Variable(y_data)\n",
    "    y_pred = model(x_data)\n",
    "    y_data.squeeze_()\n",
    "    y_pred.squeeze_()\n",
    "#     print(y_pred[0],y_data[0])\n",
    "    for i in range(32):\n",
    "        if y_pred[i].data.numpy() < 0.5 and y_data[i].data.numpy() == 0:\n",
    "                correct = correct + 1\n",
    "        if y_pred[i].data.numpy() >= 0.5 and y_data[i].data.numpy() == 1:\n",
    "                correct = correct + 1\n",
    "index = index + 1\n",
    "total = 32 * index\n",
    "accuracy = correct/total\n",
    "print(f'Accuracy is {accuracy*100}%' )"
   ]
  },
  {
   "cell_type": "code",
   "execution_count": null,
   "metadata": {},
   "outputs": [],
   "source": []
  }
 ],
 "metadata": {
  "kernelspec": {
   "display_name": "Python 3",
   "language": "python",
   "name": "python3"
  },
  "language_info": {
   "codemirror_mode": {
    "name": "ipython",
    "version": 3
   },
   "file_extension": ".py",
   "mimetype": "text/x-python",
   "name": "python",
   "nbconvert_exporter": "python",
   "pygments_lexer": "ipython3",
   "version": "3.6.5"
  }
 },
 "nbformat": 4,
 "nbformat_minor": 2
}
