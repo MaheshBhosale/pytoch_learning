{
 "cells": [
  {
   "cell_type": "code",
   "execution_count": 533,
   "metadata": {},
   "outputs": [],
   "source": [
    "import torch\n",
    "import torch.nn as nn\n",
    "import numpy as np\n",
    "import matplotlib.pyplot as plt\n",
    "from torch.autograd import Variable"
   ]
  },
  {
   "cell_type": "code",
   "execution_count": 534,
   "metadata": {},
   "outputs": [
    {
     "data": {
      "text/plain": [
       "'0.4.0'"
      ]
     },
     "execution_count": 534,
     "metadata": {},
     "output_type": "execute_result"
    }
   ],
   "source": [
    "torch.__version__"
   ]
  },
  {
   "cell_type": "code",
   "execution_count": 535,
   "metadata": {},
   "outputs": [],
   "source": [
    "input_size = 1\n",
    "output_size = 1\n",
    "num_epochs = 10\n",
    "learning_rate = 0.01"
   ]
  },
  {
   "cell_type": "code",
   "execution_count": 536,
   "metadata": {},
   "outputs": [],
   "source": [
    "def lin(a, x):\n",
    "    return np.double(a*x)"
   ]
  },
  {
   "cell_type": "code",
   "execution_count": 537,
   "metadata": {},
   "outputs": [],
   "source": [
    "def generate_fake_data(a, n):\n",
    "    x_train = np.double(np.random.uniform(1.0, 10.0, n))\n",
    "    y = np.double(lin(a,x) + np.random.normal(0.0, 2.0,size=n))\n",
    "    return np.array(x), np.array(y)"
   ]
  },
  {
   "cell_type": "code",
   "execution_count": 538,
   "metadata": {},
   "outputs": [],
   "source": [
    "x_train = np.array([[1.0], [4.4], [5.5], [6.70], [1.0], [5.60], \n",
    "                    [9.779], [6.182], [7.59], [2.167], [10.23], \n",
    "                    [10.791], [5.313], [7.997], [3.1]], dtype=np.float32)\n",
    "\n",
    "y_train = np.array([[2.0], [7.9], [10.10], [12.40], [2.0], [10.10], \n",
    "                    [18.24], [12.356], [16.02], [4.32], [20.21], \n",
    "                    [20.50], [10.63], [16.02], [6.2]], dtype=np.float32)\n",
    "\n",
    "#x_train = np.array([[1.0]], dtype=np.float32)\n",
    "\n",
    "#y_train = np.array([[2.0]], dtype=np.float32)"
   ]
  },
  {
   "cell_type": "code",
   "execution_count": 524,
   "metadata": {},
   "outputs": [],
   "source": [
    "class LinearRegression(nn.Module):\n",
    "    def __init__(self, input_size, output_size):\n",
    "        super(LinearRegression, self).__init__()\n",
    "        self.linear = nn.Linear(input_size, output_size)\n",
    "    \n",
    "    def forward(self, x):\n",
    "        out = self.linear(x)\n",
    "        return out"
   ]
  },
  {
   "cell_type": "code",
   "execution_count": 525,
   "metadata": {},
   "outputs": [],
   "source": [
    "model = LinearRegression(input_size, output_size)"
   ]
  },
  {
   "cell_type": "code",
   "execution_count": 526,
   "metadata": {},
   "outputs": [],
   "source": [
    "criterion = nn.MSELoss()\n",
    "optimizer = torch.optim.SGD(model.parameters(), lr=learning_rate)"
   ]
  },
  {
   "cell_type": "code",
   "execution_count": 530,
   "metadata": {},
   "outputs": [
    {
     "name": "stdout",
     "output_type": "stream",
     "text": [
      "Epoch[5/100], loss: 0.341464\n",
      "tensor(1.00000e-02 *\n",
      "       [[ 1.9866]])\n",
      "Parameter containing:\n",
      "tensor([[ 1.9808]])\n",
      "tensor([-0.1464])\n",
      "Parameter containing:\n",
      "tensor([-0.3414])\n",
      "Epoch[10/100], loss: 0.340393\n",
      "tensor(1.00000e-02 *\n",
      "       [[ 1.9448]])\n",
      "Parameter containing:\n",
      "tensor([[ 1.9799]])\n",
      "tensor([-0.1433])\n",
      "Parameter containing:\n",
      "tensor([-0.3342])\n",
      "Epoch[15/100], loss: 0.339366\n",
      "tensor(1.00000e-02 *\n",
      "       [[ 1.9037]])\n",
      "Parameter containing:\n",
      "tensor([[ 1.9789]])\n",
      "tensor([-0.1403])\n",
      "Parameter containing:\n",
      "tensor([-0.3271])\n",
      "Epoch[20/100], loss: 0.338383\n",
      "tensor(1.00000e-02 *\n",
      "       [[ 1.8647]])\n",
      "Parameter containing:\n",
      "tensor([[ 1.9780]])\n",
      "tensor([-0.1374])\n",
      "Parameter containing:\n",
      "tensor([-0.3202])\n",
      "Epoch[25/100], loss: 0.337439\n",
      "tensor(1.00000e-02 *\n",
      "       [[ 1.8252]])\n",
      "Parameter containing:\n",
      "tensor([[ 1.9770]])\n",
      "tensor([-0.1346])\n",
      "Parameter containing:\n",
      "tensor([-0.3134])\n",
      "Epoch[30/100], loss: 0.336534\n",
      "tensor(1.00000e-02 *\n",
      "       [[ 1.7878]])\n",
      "Parameter containing:\n",
      "tensor([[ 1.9761]])\n",
      "tensor([-0.1318])\n",
      "Parameter containing:\n",
      "tensor([-0.3068])\n",
      "Epoch[35/100], loss: 0.335666\n",
      "tensor(1.00000e-02 *\n",
      "       [[ 1.7502]])\n",
      "Parameter containing:\n",
      "tensor([[ 1.9753]])\n",
      "tensor([-0.1290])\n",
      "Parameter containing:\n",
      "tensor([-0.3003])\n",
      "Epoch[40/100], loss: 0.334835\n",
      "tensor(1.00000e-02 *\n",
      "       [[ 1.7141]])\n",
      "Parameter containing:\n",
      "tensor([[ 1.9744]])\n",
      "tensor([-0.1263])\n",
      "Parameter containing:\n",
      "tensor([-0.2939])\n",
      "Epoch[45/100], loss: 0.334037\n",
      "tensor(1.00000e-02 *\n",
      "       [[ 1.6785]])\n",
      "Parameter containing:\n",
      "tensor([[ 1.9735]])\n",
      "tensor([-0.1237])\n",
      "Parameter containing:\n",
      "tensor([-0.2877])\n",
      "Epoch[50/100], loss: 0.333272\n",
      "tensor(1.00000e-02 *\n",
      "       [[ 1.6430]])\n",
      "Parameter containing:\n",
      "tensor([[ 1.9727]])\n",
      "tensor([-0.1211])\n",
      "Parameter containing:\n",
      "tensor([-0.2816])\n",
      "Epoch[55/100], loss: 0.332539\n",
      "tensor(1.00000e-02 *\n",
      "       [[ 1.6097]])\n",
      "Parameter containing:\n",
      "tensor([[ 1.9719]])\n",
      "tensor([-0.1186])\n",
      "Parameter containing:\n",
      "tensor([-0.2756])\n",
      "Epoch[60/100], loss: 0.331836\n",
      "tensor(1.00000e-02 *\n",
      "       [[ 1.5759]])\n",
      "Parameter containing:\n",
      "tensor([[ 1.9711]])\n",
      "tensor([-0.1161])\n",
      "Parameter containing:\n",
      "tensor([-0.2697])\n",
      "Epoch[65/100], loss: 0.331162\n",
      "tensor(1.00000e-02 *\n",
      "       [[ 1.5433]])\n",
      "Parameter containing:\n",
      "tensor([[ 1.9703]])\n",
      "tensor([-0.1137])\n",
      "Parameter containing:\n",
      "tensor([-0.2640])\n",
      "Epoch[70/100], loss: 0.330516\n",
      "tensor(1.00000e-02 *\n",
      "       [[ 1.5112]])\n",
      "Parameter containing:\n",
      "tensor([[ 1.9696]])\n",
      "tensor([-0.1114])\n",
      "Parameter containing:\n",
      "tensor([-0.2584])\n",
      "Epoch[75/100], loss: 0.329896\n",
      "tensor(1.00000e-02 *\n",
      "       [[ 1.4788]])\n",
      "Parameter containing:\n",
      "tensor([[ 1.9688]])\n",
      "tensor([-0.1090])\n",
      "Parameter containing:\n",
      "tensor([-0.2529])\n",
      "Epoch[80/100], loss: 0.329302\n",
      "tensor(1.00000e-02 *\n",
      "       [[ 1.4485]])\n",
      "Parameter containing:\n",
      "tensor([[ 1.9681]])\n",
      "tensor([-0.1068])\n",
      "Parameter containing:\n",
      "tensor([-0.2475])\n",
      "Epoch[85/100], loss: 0.328732\n",
      "tensor(1.00000e-02 *\n",
      "       [[ 1.4192]])\n",
      "Parameter containing:\n",
      "tensor([[ 1.9674]])\n",
      "tensor([-0.1046])\n",
      "Parameter containing:\n",
      "tensor([-0.2422])\n",
      "Epoch[90/100], loss: 0.328186\n",
      "tensor(1.00000e-02 *\n",
      "       [[ 1.3887]])\n",
      "Parameter containing:\n",
      "tensor([[ 1.9667]])\n",
      "tensor([-0.1024])\n",
      "Parameter containing:\n",
      "tensor([-0.2371])\n",
      "Epoch[95/100], loss: 0.327662\n",
      "tensor(1.00000e-02 *\n",
      "       [[ 1.3606]])\n",
      "Parameter containing:\n",
      "tensor([[ 1.9660]])\n",
      "tensor([-0.1002])\n",
      "Parameter containing:\n",
      "tensor([-0.2320])\n",
      "Epoch[100/100], loss: 0.327160\n",
      "tensor(1.00000e-02 *\n",
      "       [[ 1.3317]])\n",
      "Parameter containing:\n",
      "tensor([[ 1.9653]])\n",
      "tensor(1.00000e-02 *\n",
      "       [-9.8159])\n",
      "Parameter containing:\n",
      "tensor([-0.2271])\n"
     ]
    },
    {
     "name": "stderr",
     "output_type": "stream",
     "text": [
      "C:\\Users\\Mahesh.Bhosale\\AppData\\Local\\Continuum\\anaconda3\\envs\\pytorch0.4.0_env\\lib\\site-packages\\ipykernel_launcher.py:11: UserWarning: invalid index of a 0-dim tensor. This will be an error in PyTorch 0.5. Use tensor.item() to convert a 0-dim tensor to a Python number\n",
      "  # This is added back by InteractiveShellApp.init_path()\n"
     ]
    }
   ],
   "source": [
    "for epoch in range(num_epochs):\n",
    "    inputs = Variable(torch.from_numpy(x_train))\n",
    "    targets = Variable(torch.from_numpy(y_train))\n",
    "    optimizer.zero_grad()\n",
    "    output = model(inputs)\n",
    "    loss = criterion(output, targets)\n",
    "    loss.backward()\n",
    "    optimizer.step()\n",
    "    \n",
    "    if (epoch+1) % 5 == 0:\n",
    "        print('Epoch[%d/%d], loss: %2.6f'%(epoch+1,num_epochs,loss.data[0]))\n",
    "        for j in model.parameters():\n",
    "            print(j.grad.data)\n",
    "            print(j)"
   ]
  },
  {
   "cell_type": "code",
   "execution_count": 532,
   "metadata": {},
   "outputs": [
    {
     "data": {
      "image/png": "[encoded data removed]",
      "text/plain": [
       "<Figure size 432x288 with 1 Axes>"
      ]
     },
     "metadata": {},
     "output_type": "display_data"
    },
    {
     "name": "stdout",
     "output_type": "stream",
     "text": [
      "tensor([ 1.7383])\n"
     ]
    }
   ],
   "source": [
    "plt.plot(x_train, y_train, 'ro', label = 'original data')\n",
    "plt.plot(x_train, predicted, label = 'Fitted line')\n",
    "plt.legend()\n",
    "plt.show()\n",
    "m = torch.Tensor([1])\n",
    "predicted_val = model(m)\n",
    "print(predicted_val)"
   ]
  },
  {
   "cell_type": "code",
   "execution_count": null,
   "metadata": {},
   "outputs": [],
   "source": [
    "\n"
   ]
  }
 ],
 "metadata": {
  "kernelspec": {
   "display_name": "Python 3",
   "language": "python",
   "name": "python3"
  },
  "language_info": {
   "codemirror_mode": {
    "name": "ipython",
    "version": 3
   },
   "file_extension": ".py",
   "mimetype": "text/x-python",
   "name": "python",
   "nbconvert_exporter": "python",
   "pygments_lexer": "ipython3",
   "version": "3.5.5"
  }
 },
 "nbformat": 4,
 "nbformat_minor": 2
}
